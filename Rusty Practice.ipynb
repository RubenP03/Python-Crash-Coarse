{
 "cells": [
  {
   "cell_type": "code",
   "execution_count": 1,
   "metadata": {},
   "outputs": [
    {
     "name": "stdout",
     "output_type": "stream",
     "text": [
      "Hello Precious\n"
     ]
    }
   ],
   "source": [
    "message = \"Hello Precious\"\n",
    "print(message)"
   ]
  },
  {
   "cell_type": "code",
   "execution_count": 2,
   "metadata": {},
   "outputs": [
    {
     "name": "stdout",
     "output_type": "stream",
     "text": [
      "Practice Today!!\n"
     ]
    }
   ],
   "source": [
    "second_message = \"Practice Today!!\"\n",
    "print(second_message)"
   ]
  },
  {
   "cell_type": "code",
   "execution_count": 5,
   "metadata": {},
   "outputs": [
    {
     "name": "stdout",
     "output_type": "stream",
     "text": [
      "joaquin selena\n"
     ]
    }
   ],
   "source": [
    "actor_name = \"joaquin\"\n",
    "actress_name = \"selena\"\n",
    "print(actor_name + \" \" + actress_name)"
   ]
  },
  {
   "cell_type": "code",
   "execution_count": 6,
   "metadata": {},
   "outputs": [
    {
     "name": "stdout",
     "output_type": "stream",
     "text": [
      "Joaquin\n"
     ]
    }
   ],
   "source": [
    "print(actor_name.title())"
   ]
  },
  {
   "cell_type": "code",
   "execution_count": 9,
   "metadata": {},
   "outputs": [
    {
     "name": "stdout",
     "output_type": "stream",
     "text": [
      "Joaquin and Selena\n"
     ]
    }
   ],
   "source": [
    "print(actor_name.title() + \" and \" + actress_name.title())"
   ]
  },
  {
   "cell_type": "code",
   "execution_count": 11,
   "metadata": {},
   "outputs": [
    {
     "name": "stdout",
     "output_type": "stream",
     "text": [
      "JOAQUIN printed in CAPS!\n"
     ]
    }
   ],
   "source": [
    "print(actor_name.upper() + \" printed in CAPS!\")"
   ]
  },
  {
   "cell_type": "code",
   "execution_count": 19,
   "metadata": {},
   "outputs": [
    {
     "name": "stdout",
     "output_type": "stream",
     "text": [
      "\tHello\n",
      "Hello\n"
     ]
    }
   ],
   "source": [
    "print(\"\\tHello\")\n",
    "print(\"Hello\")"
   ]
  },
  {
   "cell_type": "code",
   "execution_count": 25,
   "metadata": {},
   "outputs": [
    {
     "name": "stdout",
     "output_type": "stream",
     "text": [
      "Things I have to Practice:\n",
      "Excel\n",
      "Tableau\n",
      "Python\n",
      "MySQL\n"
     ]
    }
   ],
   "source": [
    "print(\"Things I have to Practice:\\nExcel\\nTableau\\nPython\\nMySQL\")"
   ]
  },
  {
   "cell_type": "code",
   "execution_count": 18,
   "metadata": {},
   "outputs": [
    {
     "data": {
      "text/plain": [
       "'making a string for practice'"
      ]
     },
     "execution_count": 18,
     "metadata": {},
     "output_type": "execute_result"
    }
   ],
   "source": [
    "\"making a string for practice\""
   ]
  },
  {
   "cell_type": "code",
   "execution_count": 26,
   "metadata": {},
   "outputs": [
    {
     "name": "stdout",
     "output_type": "stream",
     "text": [
      "I come in Peace!\n"
     ]
    }
   ],
   "source": [
    "first_message = \"I come in Peace!\"\n",
    "print(first_message)"
   ]
  },
  {
   "cell_type": "code",
   "execution_count": 27,
   "metadata": {},
   "outputs": [
    {
     "data": {
      "text/plain": [
       "10"
      ]
     },
     "execution_count": 27,
     "metadata": {},
     "output_type": "execute_result"
    }
   ],
   "source": [
    "# PEMDAS - Please Excuse My Dear Aunt Sally\n",
    "(4*2)+5-3"
   ]
  },
  {
   "cell_type": "code",
   "execution_count": 29,
   "metadata": {},
   "outputs": [
    {
     "name": "stdout",
     "output_type": "stream",
     "text": [
      "Happy 16th Birthday!!\n"
     ]
    }
   ],
   "source": [
    "age = 16\n",
    "birthday_message = \"Happy \" + str(age) +\"th Birthday!!\"\n",
    "print(birthday_message)"
   ]
  },
  {
   "cell_type": "markdown",
   "metadata": {},
   "source": [
    "## Lists"
   ]
  },
  {
   "cell_type": "code",
   "execution_count": 30,
   "metadata": {},
   "outputs": [
    {
     "name": "stdout",
     "output_type": "stream",
     "text": [
      "['mustang', 'corolla', 'sentra', 'lacrosse']\n"
     ]
    }
   ],
   "source": [
    "cars = [\"mustang\", \"corolla\", \"sentra\", \"lacrosse\"]\n",
    "print(cars)"
   ]
  },
  {
   "cell_type": "code",
   "execution_count": 31,
   "metadata": {},
   "outputs": [
    {
     "name": "stdout",
     "output_type": "stream",
     "text": [
      "sentra\n"
     ]
    }
   ],
   "source": [
    "print(cars[2])"
   ]
  },
  {
   "cell_type": "code",
   "execution_count": 32,
   "metadata": {},
   "outputs": [
    {
     "name": "stdout",
     "output_type": "stream",
     "text": [
      "Corolla\n"
     ]
    }
   ],
   "source": [
    "print(cars[1].title())"
   ]
  },
  {
   "cell_type": "code",
   "execution_count": 36,
   "metadata": {},
   "outputs": [
    {
     "name": "stdout",
     "output_type": "stream",
     "text": [
      "Sentra\n"
     ]
    }
   ],
   "source": [
    "print(cars[-2].title())"
   ]
  },
  {
   "cell_type": "code",
   "execution_count": 39,
   "metadata": {},
   "outputs": [
    {
     "name": "stdout",
     "output_type": "stream",
     "text": [
      "Before I liked the Camero I liked the Mustang.\n"
     ]
    }
   ],
   "source": [
    "print(\"Before I liked the Camero I liked the \" + cars[0].title() +\".\")"
   ]
  },
  {
   "cell_type": "code",
   "execution_count": 45,
   "metadata": {},
   "outputs": [
    {
     "name": "stdout",
     "output_type": "stream",
     "text": [
      "['harry', 'ron', 'hermione']\n"
     ]
    }
   ],
   "source": [
    "wizards = [\"harry\", \"ron\", \"hermione\"]\n",
    "print(wizards)"
   ]
  },
  {
   "cell_type": "code",
   "execution_count": 46,
   "metadata": {},
   "outputs": [
    {
     "name": "stdout",
     "output_type": "stream",
     "text": [
      "['harry', 'ron', 'hermione', 'sirius']\n",
      "['harry', 'ron', 'hermione', 'sirius', 'hagrid']\n"
     ]
    }
   ],
   "source": [
    "wizards.append(\"sirius\")\n",
    "print(wizards)\n",
    "\n",
    "wizards.append(\"hagrid\")\n",
    "print(wizards)"
   ]
  },
  {
   "cell_type": "code",
   "execution_count": 48,
   "metadata": {},
   "outputs": [
    {
     "name": "stdout",
     "output_type": "stream",
     "text": [
      "Hermione\n"
     ]
    }
   ],
   "source": [
    "print(wizards[2].title())"
   ]
  },
  {
   "cell_type": "code",
   "execution_count": 49,
   "metadata": {},
   "outputs": [
    {
     "name": "stdout",
     "output_type": "stream",
     "text": [
      "['harry', 'ron', 'hermione', 'sirius', 'serverus', 'hagrid']\n"
     ]
    }
   ],
   "source": [
    "wizards.insert(4, 'serverus')\n",
    "print(wizards)"
   ]
  },
  {
   "cell_type": "code",
   "execution_count": 50,
   "metadata": {},
   "outputs": [
    {
     "name": "stdout",
     "output_type": "stream",
     "text": [
      "['hagrid', 'harry', 'hermione', 'ron', 'serverus', 'sirius']\n"
     ]
    }
   ],
   "source": [
    "wizards.sort()\n",
    "print(wizards)"
   ]
  },
  {
   "cell_type": "code",
   "execution_count": 51,
   "metadata": {},
   "outputs": [
    {
     "name": "stdout",
     "output_type": "stream",
     "text": [
      "['sirius', 'serverus', 'ron', 'hermione', 'harry', 'hagrid']\n"
     ]
    }
   ],
   "source": [
    "wizards.sort(reverse=True)\n",
    "print(wizards)"
   ]
  },
  {
   "cell_type": "code",
   "execution_count": 52,
   "metadata": {},
   "outputs": [
    {
     "name": "stdout",
     "output_type": "stream",
     "text": [
      "['hagrid', 'harry', 'hermione', 'ron', 'serverus', 'sirius']\n"
     ]
    }
   ],
   "source": [
    "wizards.sort(reverse=False)\n",
    "print(wizards)"
   ]
  },
  {
   "cell_type": "code",
   "execution_count": 53,
   "metadata": {},
   "outputs": [
    {
     "data": {
      "text/plain": [
       "6"
      ]
     },
     "execution_count": 53,
     "metadata": {},
     "output_type": "execute_result"
    }
   ],
   "source": [
    "len(wizards)"
   ]
  },
  {
   "cell_type": "markdown",
   "metadata": {},
   "source": [
    "## Loops"
   ]
  },
  {
   "cell_type": "code",
   "execution_count": 55,
   "metadata": {},
   "outputs": [
    {
     "name": "stdout",
     "output_type": "stream",
     "text": [
      "cesaro\n",
      "aj styles\n",
      "ricochet\n"
     ]
    }
   ],
   "source": [
    "wrestlers = [\"cesaro\", \"aj styles\", \"ricochet\"]\n",
    "for wrestler in wrestlers:\n",
    "    print(wrestler)"
   ]
  },
  {
   "cell_type": "code",
   "execution_count": 56,
   "metadata": {},
   "outputs": [
    {
     "name": "stdout",
     "output_type": "stream",
     "text": [
      "Cesaro is one of my top 3 current wrestlers!\n",
      "Aj Styles is one of my top 3 current wrestlers!\n",
      "Ricochet is one of my top 3 current wrestlers!\n"
     ]
    }
   ],
   "source": [
    "for wrestler in wrestlers:\n",
    "    print(wrestler.title() + \" is one of my top 3 current wrestlers!\")"
   ]
  },
  {
   "cell_type": "code",
   "execution_count": 59,
   "metadata": {},
   "outputs": [
    {
     "name": "stdout",
     "output_type": "stream",
     "text": [
      "Doc. Oc\n",
      "Shocker\n",
      "Reptile\n",
      "Vulture\n"
     ]
    }
   ],
   "source": [
    "spidey_villians = [\"doc. oc\", \"shocker\", \"reptile\", \"vulture\"]\n",
    "for villian in spidey_villians:\n",
    "    print(villian.title())"
   ]
  },
  {
   "cell_type": "code",
   "execution_count": 60,
   "metadata": {},
   "outputs": [
    {
     "name": "stdout",
     "output_type": "stream",
     "text": [
      "['doc. oc', 'shocker', 'reptile', 'vulture']\n"
     ]
    }
   ],
   "source": [
    "print(spidey_villians)"
   ]
  },
  {
   "cell_type": "code",
   "execution_count": null,
   "metadata": {},
   "outputs": [],
   "source": []
  }
 ],
 "metadata": {
  "kernelspec": {
   "display_name": "PythonData",
   "language": "python",
   "name": "pythondata"
  },
  "language_info": {
   "codemirror_mode": {
    "name": "ipython",
    "version": 3
   },
   "file_extension": ".py",
   "mimetype": "text/x-python",
   "name": "python",
   "nbconvert_exporter": "python",
   "pygments_lexer": "ipython3",
   "version": "3.6.4"
  }
 },
 "nbformat": 4,
 "nbformat_minor": 2
}
