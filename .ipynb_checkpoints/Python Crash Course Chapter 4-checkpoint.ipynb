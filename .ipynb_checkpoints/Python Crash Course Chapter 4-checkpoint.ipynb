{
 "cells": [
  {
   "cell_type": "markdown",
   "metadata": {},
   "source": [
    "# Working with Lists"
   ]
  },
  {
   "cell_type": "markdown",
   "metadata": {},
   "source": [
    "## In this chapter will learn to loop through a list.  (for loop)"
   ]
  },
  {
   "cell_type": "code",
   "execution_count": 5,
   "metadata": {},
   "outputs": [
    {
     "name": "stdout",
     "output_type": "stream",
     "text": [
      "alice\n",
      "david\n",
      "carolina\n"
     ]
    }
   ],
   "source": [
    "# use a for loop to print each name of magician in list\n",
    "# with line 3 we created a list\n",
    "magicians = ['alice', 'david', 'carolina']\n",
    "# with line 5 we defined a for loop (tells Python to pull a name and store it in variable)\n",
    "for magician in magicians:\n",
    "# with line 7 we print the name stored in the variable \"magicians\" and Python repeats for each name\n",
    "    print(magician)"
   ]
  },
  {
   "cell_type": "code",
   "execution_count": 6,
   "metadata": {},
   "outputs": [],
   "source": [
    "# Looping is important because it is the most common way to automate repetative tasks"
   ]
  },
  {
   "cell_type": "code",
   "execution_count": 8,
   "metadata": {},
   "outputs": [
    {
     "name": "stdout",
     "output_type": "stream",
     "text": [
      "timmy\n",
      "tony\n",
      "manu\n",
      "iceman\n"
     ]
    }
   ],
   "source": [
    "# practice for loop\n",
    "spurs = [\"timmy\", 'tony', 'manu', 'iceman']\n",
    "for spur in spurs:\n",
    "    print(spur)"
   ]
  },
  {
   "cell_type": "code",
   "execution_count": 19,
   "metadata": {},
   "outputs": [
    {
     "name": "stdout",
     "output_type": "stream",
     "text": [
      "Timmy, was a great player!\n",
      "Timmy, let me run this test.\n",
      "\n",
      "Tony, was a great player!\n",
      "Tony, let me run this test.\n",
      "\n",
      "Manu, was a great player!\n",
      "Manu, let me run this test.\n",
      "\n",
      "Iceman, was a great player!\n",
      "Iceman, let me run this test.\n",
      "\n"
     ]
    }
   ],
   "source": [
    "for spur in spurs:\n",
    "    print(spur.title() + \", was a great player!\")\n",
    "    print(spur.title() + \", let me run this test.\" \"\\n\")"
   ]
  },
  {
   "cell_type": "code",
   "execution_count": 12,
   "metadata": {},
   "outputs": [],
   "source": [
    "# every line indented following the for loop line is considered \"inside the loop\""
   ]
  },
  {
   "cell_type": "code",
   "execution_count": 14,
   "metadata": {},
   "outputs": [
    {
     "name": "stdout",
     "output_type": "stream",
     "text": [
      "Timmy, we love the way you ball!\n",
      "Tony, we love the way you ball!\n",
      "Manu, we love the way you ball!\n",
      "Iceman, we love the way you ball!\n"
     ]
    }
   ],
   "source": [
    "for spur in spurs:\n",
    "    print(spur.title() + \", we love the way you ball!\")"
   ]
  },
  {
   "cell_type": "code",
   "execution_count": 22,
   "metadata": {},
   "outputs": [
    {
     "name": "stdout",
     "output_type": "stream",
     "text": [
      "Timmy, that was a great game!\n",
      "\n",
      "Tony, that was a great game!\n",
      "\n",
      "Manu, that was a great game!\n",
      "\n",
      "Iceman, that was a great game!\n",
      "\n",
      "Thank you all for the memories!\n"
     ]
    }
   ],
   "source": [
    "for spur in spurs:\n",
    "    print(spur.title() + \", that was a great game!\" \"\\n\")\n",
    "    \n",
    "print(\"Thank you all for the memories!\")"
   ]
  },
  {
   "cell_type": "code",
   "execution_count": 23,
   "metadata": {},
   "outputs": [],
   "source": [
    "# Logical Error - the syntax is valid in the Python code but the code does not produce the desired result because\n",
    "# the problem occurs in the logic"
   ]
  },
  {
   "cell_type": "code",
   "execution_count": 25,
   "metadata": {},
   "outputs": [],
   "source": [
    "# **the colon at the end of a for statement tells Python to interperet the next line as the start of a loop**\n",
    "# if you forget the colon, you'll get a syntax error"
   ]
  },
  {
   "cell_type": "code",
   "execution_count": 11,
   "metadata": {},
   "outputs": [
    {
     "name": "stdout",
     "output_type": "stream",
     "text": [
      "Black Panther is one of my favorite Avengers!\n",
      "I hope Black Panther survives the endgame.\n",
      "\n",
      "Spider-Man is one of my favorite Avengers!\n",
      "I hope Spider-Man survives the endgame.\n",
      "\n",
      "Dr.Strange is one of my favorite Avengers!\n",
      "I hope Dr.Strange survives the endgame.\n",
      "\n",
      "Captain Marvel is one of my favorite Avengers!\n",
      "I hope Captain Marvel survives the endgame.\n",
      "\n",
      "Ant-Man is one of my favorite Avengers!\n",
      "I hope Ant-Man survives the endgame.\n",
      "\n",
      "Falcon is one of my favorite Avengers!\n",
      "I hope Falcon survives the endgame.\n",
      "\n"
     ]
    }
   ],
   "source": [
    "# this block was practice for fun\n",
    "new_avengers = ['black panther', 'spider-man', 'dr.strange', 'captain marvel', 'ant-man', 'falcon']\n",
    "for avenger in new_avengers:\n",
    "    print(avenger.title() + \" is one of my favorite Avengers!\")\n",
    "    print(\"I hope \" + avenger.title() + \" survives the endgame.\" \"\\n\")"
   ]
  },
  {
   "cell_type": "code",
   "execution_count": 15,
   "metadata": {},
   "outputs": [
    {
     "name": "stdout",
     "output_type": "stream",
     "text": [
      "['leopard', 'jaguar', 'tiger', 'presh']\n"
     ]
    }
   ],
   "source": [
    "# this block also for practice\n",
    "felines = []\n",
    "\n",
    "felines.append(\"leopard\")\n",
    "felines.append(\"jaguar\")\n",
    "felines.append(\"tiger\")\n",
    "felines.append(\"presh\")\n",
    "\n",
    "print(felines)"
   ]
  },
  {
   "cell_type": "code",
   "execution_count": 17,
   "metadata": {},
   "outputs": [
    {
     "name": "stdout",
     "output_type": "stream",
     "text": [
      "Jaguar\n"
     ]
    }
   ],
   "source": [
    "print(felines[1].title())"
   ]
  },
  {
   "cell_type": "code",
   "execution_count": 18,
   "metadata": {},
   "outputs": [
    {
     "name": "stdout",
     "output_type": "stream",
     "text": [
      "Leopard\n",
      "Jaguar\n",
      "Tiger\n",
      "Presh\n"
     ]
    }
   ],
   "source": [
    "for feline in felines:\n",
    "    print(feline.title())"
   ]
  },
  {
   "cell_type": "markdown",
   "metadata": {},
   "source": [
    "## Making Numberical Lists"
   ]
  },
  {
   "cell_type": "code",
   "execution_count": 20,
   "metadata": {},
   "outputs": [],
   "source": [
    "# Many reasons exist to store a set of numbers\n",
    "# In data visualization you'll almost always work with sets of numbers.\n",
    "# Ex: temperatures, distances, population sizes, longitude and latitude"
   ]
  },
  {
   "cell_type": "markdown",
   "metadata": {},
   "source": [
    "## Using the range() function with list() function...not like list []"
   ]
  },
  {
   "cell_type": "code",
   "execution_count": 21,
   "metadata": {},
   "outputs": [],
   "source": [
    "# Python's range() function makes it easy to generate a series of numbers"
   ]
  },
  {
   "cell_type": "code",
   "execution_count": 22,
   "metadata": {},
   "outputs": [
    {
     "name": "stdout",
     "output_type": "stream",
     "text": [
      "1\n",
      "2\n",
      "3\n",
      "4\n"
     ]
    }
   ],
   "source": [
    "for value in range(1,5):\n",
    "    print(value)"
   ]
  },
  {
   "cell_type": "code",
   "execution_count": 24,
   "metadata": {},
   "outputs": [
    {
     "name": "stdout",
     "output_type": "stream",
     "text": [
      "1\n",
      "2\n",
      "3\n",
      "4\n",
      "5\n"
     ]
    }
   ],
   "source": [
    "for value in range(1,6):\n",
    "    print(value)"
   ]
  },
  {
   "cell_type": "code",
   "execution_count": 25,
   "metadata": {},
   "outputs": [],
   "source": [
    "# Using range() to make a list of numbers\n",
    "# convert results or range() using list() function"
   ]
  },
  {
   "cell_type": "code",
   "execution_count": 26,
   "metadata": {},
   "outputs": [
    {
     "name": "stdout",
     "output_type": "stream",
     "text": [
      "[1, 2, 3, 4, 5]\n"
     ]
    }
   ],
   "source": [
    "# Example\n",
    "numbers = list(range(1,6))\n",
    "print(numbers)"
   ]
  },
  {
   "cell_type": "code",
   "execution_count": 2,
   "metadata": {},
   "outputs": [
    {
     "name": "stdout",
     "output_type": "stream",
     "text": [
      "[2, 4, 6, 8, 10, 12, 14, 16, 18]\n"
     ]
    }
   ],
   "source": [
    "# We can use the range() function to tell Python to skip numbers\n",
    "even_numbers = list(range(2,20,2))\n",
    "# in line above the range is 2-19. We start at 2 and go through the range. The \",2\" at the end has the numbers skip. \n",
    "print(even_numbers)"
   ]
  },
  {
   "cell_type": "code",
   "execution_count": 3,
   "metadata": {},
   "outputs": [
    {
     "name": "stdout",
     "output_type": "stream",
     "text": [
      "[1, 3, 5, 7, 9, 11, 13, 15, 17, 19]\n"
     ]
    }
   ],
   "source": [
    "odd_numbers = list(range(1,20,2))\n",
    "print(odd_numbers)"
   ]
  },
  {
   "cell_type": "markdown",
   "metadata": {},
   "source": [
    "### Squares"
   ]
  },
  {
   "cell_type": "code",
   "execution_count": 30,
   "metadata": {},
   "outputs": [],
   "source": [
    "#In Python two asterisks (**) represent exponents"
   ]
  },
  {
   "cell_type": "code",
   "execution_count": 32,
   "metadata": {},
   "outputs": [
    {
     "name": "stdout",
     "output_type": "stream",
     "text": [
      "[1, 4, 9, 16, 25, 36, 49, 64, 81, 100]\n"
     ]
    }
   ],
   "source": [
    "squares = []\n",
    "for value in range(1,11):\n",
    "    square = value**2\n",
    "    squares.append(square)\n",
    "    \n",
    "print(squares)"
   ]
  },
  {
   "cell_type": "code",
   "execution_count": 33,
   "metadata": {},
   "outputs": [
    {
     "name": "stdout",
     "output_type": "stream",
     "text": [
      "[1, 4, 9, 16, 25, 36, 49, 64, 81, 100]\n"
     ]
    }
   ],
   "source": [
    "squares = []\n",
    "for value in range(1,11):\n",
    "    squares.append(value**2)\n",
    "    \n",
    "print(squares)"
   ]
  },
  {
   "cell_type": "markdown",
   "metadata": {},
   "source": [
    "### Statistics with a List of Numbers (min, max, sum)"
   ]
  },
  {
   "cell_type": "code",
   "execution_count": 4,
   "metadata": {},
   "outputs": [],
   "source": [
    "digits = [1, 2, 3, 4, 5, 6, 7, 8, 9, 10, 11, 12, 13]"
   ]
  },
  {
   "cell_type": "code",
   "execution_count": 8,
   "metadata": {},
   "outputs": [
    {
     "data": {
      "text/plain": [
       "1"
      ]
     },
     "execution_count": 8,
     "metadata": {},
     "output_type": "execute_result"
    }
   ],
   "source": [
    "min(digits)"
   ]
  },
  {
   "cell_type": "code",
   "execution_count": 9,
   "metadata": {},
   "outputs": [
    {
     "data": {
      "text/plain": [
       "13"
      ]
     },
     "execution_count": 9,
     "metadata": {},
     "output_type": "execute_result"
    }
   ],
   "source": [
    "max(digits)"
   ]
  },
  {
   "cell_type": "code",
   "execution_count": 10,
   "metadata": {},
   "outputs": [
    {
     "data": {
      "text/plain": [
       "91"
      ]
     },
     "execution_count": 10,
     "metadata": {},
     "output_type": "execute_result"
    }
   ],
   "source": [
    "sum(digits)"
   ]
  },
  {
   "cell_type": "markdown",
   "metadata": {},
   "source": [
    "### List Comprehensions"
   ]
  },
  {
   "cell_type": "code",
   "execution_count": 11,
   "metadata": {},
   "outputs": [],
   "source": [
    "# A list comprehension combines the for loop and the creation of new elements into one line \n",
    "# and automatically appends each new element"
   ]
  },
  {
   "cell_type": "code",
   "execution_count": 13,
   "metadata": {},
   "outputs": [
    {
     "name": "stdout",
     "output_type": "stream",
     "text": [
      "Taas\n",
      "Taks\n",
      "GRE\n",
      "LSAT\n"
     ]
    }
   ],
   "source": [
    "# another practice cell because I took a 2 day break\n",
    "tests = ['Taas', 'Taks', 'GRE', 'LSAT']\n",
    "for test in tests:\n",
    "    print(test)"
   ]
  },
  {
   "cell_type": "code",
   "execution_count": 14,
   "metadata": {},
   "outputs": [
    {
     "name": "stdout",
     "output_type": "stream",
     "text": [
      "[1, 4, 9, 16, 25]\n"
     ]
    }
   ],
   "source": [
    "# Example 1\n",
    "squares = []\n",
    "for value in range(1,6):\n",
    "    square = value**2\n",
    "    squares.append(square)\n",
    "    \n",
    "print(squares)"
   ]
  },
  {
   "cell_type": "code",
   "execution_count": 15,
   "metadata": {},
   "outputs": [
    {
     "name": "stdout",
     "output_type": "stream",
     "text": [
      "[1, 4, 9, 16, 25]\n"
     ]
    }
   ],
   "source": [
    "# Example 2\n",
    "squares = []\n",
    "for value in range(1,6):\n",
    "    squares.append(value**2)\n",
    "    \n",
    "print(squares)"
   ]
  },
  {
   "cell_type": "code",
   "execution_count": 16,
   "metadata": {},
   "outputs": [
    {
     "name": "stdout",
     "output_type": "stream",
     "text": [
      "[1, 4, 9, 16, 25]\n"
     ]
    }
   ],
   "source": [
    "# List Comprehension Example\n",
    "squares = [value**2 for value in range (1,6)]\n",
    "print(squares)"
   ]
  },
  {
   "cell_type": "code",
   "execution_count": 18,
   "metadata": {},
   "outputs": [
    {
     "name": "stdout",
     "output_type": "stream",
     "text": [
      "[1, 8, 27, 64, 125, 216, 343, 512, 729, 1000]\n"
     ]
    }
   ],
   "source": [
    "cubes = [value**3 for value in range (1,11)]\n",
    "print(cubes)"
   ]
  },
  {
   "cell_type": "markdown",
   "metadata": {},
   "source": [
    "### Working with Part of a List (Slicing a list)"
   ]
  },
  {
   "cell_type": "code",
   "execution_count": 1,
   "metadata": {},
   "outputs": [],
   "source": [
    "# to make a slice, specify the first and last elements in a list you want to work with"
   ]
  },
  {
   "cell_type": "code",
   "execution_count": 5,
   "metadata": {},
   "outputs": [
    {
     "name": "stdout",
     "output_type": "stream",
     "text": [
      "['martina', 'michael']\n",
      "['charles', 'martina', 'michael']\n",
      "['charles', 'martina', 'michael', 'florence', 'eli']\n",
      "['charles', 'martina', 'michael', 'florence']\n"
     ]
    }
   ],
   "source": [
    "players = ['charles', 'martina', 'michael', 'florence', 'eli']\n",
    "print(players[1:3])\n",
    "print(players[0:3])\n",
    "print(players[0:])\n",
    "print(players[:4])"
   ]
  },
  {
   "cell_type": "markdown",
   "metadata": {},
   "source": [
    "### Looping Through a Slice"
   ]
  },
  {
   "cell_type": "code",
   "execution_count": 7,
   "metadata": {},
   "outputs": [
    {
     "name": "stdout",
     "output_type": "stream",
     "text": [
      "Here are the players on my team:\n",
      "Charles\n",
      "Martina\n"
     ]
    }
   ],
   "source": [
    "# loop through subset of elements in a list\n",
    "players = ['charles', 'martina', 'michael', 'florence', 'eli']\n",
    "print(\"Here are the players on my team:\")\n",
    "for player in players[:2]:\n",
    "    print(player.title())"
   ]
  },
  {
   "cell_type": "code",
   "execution_count": 8,
   "metadata": {},
   "outputs": [],
   "source": [
    "# slices are useful in a number of situations\n",
    "# for Data - you can use slices to process data in chunks of a specific size\n",
    "# for Web Appications - display info in a series of pages with appropriate amt of info on each page"
   ]
  },
  {
   "cell_type": "markdown",
   "metadata": {},
   "source": [
    "### Copying a List"
   ]
  },
  {
   "cell_type": "code",
   "execution_count": 14,
   "metadata": {},
   "outputs": [],
   "source": [
    "# You may have an existing list and make an entirely new list base on the first one\n",
    "# To copy a list, make a slice that includes the entire original list and omit first and second index ([:])\n",
    "# This tells Python to make a slice that starts at the first item and ends with last item"
   ]
  },
  {
   "cell_type": "code",
   "execution_count": 13,
   "metadata": {},
   "outputs": [
    {
     "name": "stdout",
     "output_type": "stream",
     "text": [
      "My favorite foods are:\n",
      "['pizza', 'falafel', 'carrot cake']\n",
      "\n",
      "My friends favorite foods are:\n",
      "['pizza', 'falafel', 'carrot cake']\n"
     ]
    }
   ],
   "source": [
    "my_foods = ['pizza', 'falafel', 'carrot cake']\n",
    "friends_foods = my_foods [:]\n",
    "\n",
    "print(\"My favorite foods are:\")\n",
    "print(my_foods)\n",
    "\n",
    "print('\\nMy friends favorite foods are:')\n",
    "print(friends_foods)"
   ]
  },
  {
   "cell_type": "code",
   "execution_count": 15,
   "metadata": {},
   "outputs": [
    {
     "name": "stdout",
     "output_type": "stream",
     "text": [
      "['pizza', 'falafel', 'carrot cake', 'ice cream']\n",
      "['pizza', 'falafel', 'carrot cake', 'onion']\n"
     ]
    }
   ],
   "source": [
    "# to prove that we have two lists we'll add new food to each list\n",
    "my_foods.append(\"ice cream\")\n",
    "friends_foods.append('onion')\n",
    "\n",
    "print(my_foods)\n",
    "print(friends_foods)"
   ]
  },
  {
   "cell_type": "code",
   "execution_count": 16,
   "metadata": {},
   "outputs": [],
   "source": [
    "# friends_foods = my_foods\n",
    "# would not work because it would not make two separate lists only would set friends_foods = to my_foods"
   ]
  },
  {
   "cell_type": "code",
   "execution_count": 23,
   "metadata": {},
   "outputs": [
    {
     "name": "stdout",
     "output_type": "stream",
     "text": [
      "['martian manhunter', 'green lantern', 'shazam']\n",
      "['martian manhunter', 'green lantern', 'shazam']\n"
     ]
    }
   ],
   "source": [
    "my_dcheroes = ['martian manhunter', 'green lantern', 'shazam']\n",
    "friend_dcheroes = my_dcheroes [:]\n",
    "\n",
    "print(my_dcheroes)\n",
    "print(friend_dcheroes)"
   ]
  },
  {
   "cell_type": "code",
   "execution_count": 24,
   "metadata": {},
   "outputs": [
    {
     "name": "stdout",
     "output_type": "stream",
     "text": [
      "['martian manhunter', 'green lantern', 'shazam', 'wonder woman']\n",
      "['martian manhunter', 'green lantern', 'shazam', 'batman']\n"
     ]
    }
   ],
   "source": [
    "my_dcheroes.append('wonder woman')\n",
    "friend_dcheroes.append('batman')\n",
    "\n",
    "print(my_dcheroes)\n",
    "print(friend_dcheroes)"
   ]
  },
  {
   "cell_type": "markdown",
   "metadata": {},
   "source": [
    "## Tuples"
   ]
  },
  {
   "cell_type": "code",
   "execution_count": 26,
   "metadata": {},
   "outputs": [],
   "source": [
    "# Lists work well for storing sets of items that can change throughout the life of a program\n",
    "# This ability is important when working with lists of users on website or list of characters in a game\n",
    "\n",
    "# However sometimes you want to create a list of items that cannot change\n",
    "# Tuples allow you to do this!!\n",
    "\n",
    "# Python referes to values that cannot change as immutable! \n",
    "# Immutable lists are called tuple\n",
    "\n",
    "# Tuple looks like a list but uses () instead of []"
   ]
  },
  {
   "cell_type": "code",
   "execution_count": 27,
   "metadata": {},
   "outputs": [
    {
     "name": "stdout",
     "output_type": "stream",
     "text": [
      "200\n",
      "50\n"
     ]
    }
   ],
   "source": [
    "# Example: We have a rectangle that should be a certain size\n",
    "dimensions = (200, 50)\n",
    "print(dimensions[0])\n",
    "print(dimensions[1])"
   ]
  },
  {
   "cell_type": "code",
   "execution_count": 29,
   "metadata": {},
   "outputs": [],
   "source": [
    "# will receive an error if we try to change a tuple\n",
    "#dimensions[0] = 250"
   ]
  },
  {
   "cell_type": "markdown",
   "metadata": {},
   "source": [
    "### Looping through Values in a Tuple"
   ]
  },
  {
   "cell_type": "code",
   "execution_count": 30,
   "metadata": {},
   "outputs": [
    {
     "name": "stdout",
     "output_type": "stream",
     "text": [
      "200\n",
      "50\n"
     ]
    }
   ],
   "source": [
    "# can do that same as we did in a list\n",
    "dimensions = (200, 50)\n",
    "for dimension in dimensions:\n",
    "    print(dimension)"
   ]
  },
  {
   "cell_type": "markdown",
   "metadata": {},
   "source": [
    "### Writing Over a Tuple"
   ]
  },
  {
   "cell_type": "code",
   "execution_count": 31,
   "metadata": {},
   "outputs": [],
   "source": [
    "# Although we can't modify a tuple, we can assign a new value to a variable \n",
    "# would have to redefine entire tuple"
   ]
  },
  {
   "cell_type": "code",
   "execution_count": 35,
   "metadata": {},
   "outputs": [
    {
     "name": "stdout",
     "output_type": "stream",
     "text": [
      "Original Dimensions:\n",
      "200\n",
      "50\n",
      "\n",
      "Modified Dimensions:\n",
      "400\n",
      "100\n"
     ]
    }
   ],
   "source": [
    "dimensions = (200, 50)\n",
    "print('Original Dimensions:')\n",
    "for dimension in dimensions:\n",
    "    print(dimension)\n",
    "    \n",
    "dimensions = (400, 100)\n",
    "print('\\nModified Dimensions:')\n",
    "for dimension in dimensions:\n",
    "    print(dimension)"
   ]
  },
  {
   "cell_type": "code",
   "execution_count": 36,
   "metadata": {},
   "outputs": [],
   "source": [
    "# When compared to lists, tuples are data structures\n",
    "# Use them when you want to store set of values that should not be changed through life of a program"
   ]
  },
  {
   "cell_type": "code",
   "execution_count": null,
   "metadata": {},
   "outputs": [],
   "source": []
  }
 ],
 "metadata": {
  "kernelspec": {
   "display_name": "PythonData",
   "language": "python",
   "name": "pythondata"
  },
  "language_info": {
   "codemirror_mode": {
    "name": "ipython",
    "version": 3
   },
   "file_extension": ".py",
   "mimetype": "text/x-python",
   "name": "python",
   "nbconvert_exporter": "python",
   "pygments_lexer": "ipython3",
   "version": "3.6.4"
  }
 },
 "nbformat": 4,
 "nbformat_minor": 2
}
