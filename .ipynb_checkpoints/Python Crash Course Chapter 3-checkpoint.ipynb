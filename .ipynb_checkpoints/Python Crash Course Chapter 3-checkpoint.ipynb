{
 "cells": [
  {
   "cell_type": "markdown",
   "metadata": {},
   "source": [
    "# Lists"
   ]
  },
  {
   "cell_type": "code",
   "execution_count": 9,
   "metadata": {},
   "outputs": [
    {
     "name": "stdout",
     "output_type": "stream",
     "text": [
      "['corvette', 'camero', 'tahoe', 'suburban']\n"
     ]
    }
   ],
   "source": [
    "# A list is a collection of items in a particular order\n",
    "# Can include letters, numbers (0-9), strings, etc. \n",
    "# lists are indicated by []\n",
    "\n",
    "#Example list\n",
    "autos = [\"corvette\", \"camero\", \"tahoe\", \"suburban\"]\n",
    "print(autos)"
   ]
  },
  {
   "cell_type": "markdown",
   "metadata": {},
   "source": [
    "## Accessing elements in a list"
   ]
  },
  {
   "cell_type": "code",
   "execution_count": 10,
   "metadata": {},
   "outputs": [
    {
     "name": "stdout",
     "output_type": "stream",
     "text": [
      "camero\n"
     ]
    }
   ],
   "source": [
    "# to access a specific value in a list\n",
    "print(autos[1])"
   ]
  },
  {
   "cell_type": "code",
   "execution_count": 11,
   "metadata": {},
   "outputs": [
    {
     "name": "stdout",
     "output_type": "stream",
     "text": [
      "Camero\n"
     ]
    }
   ],
   "source": [
    "print(autos[1].title())"
   ]
  },
  {
   "cell_type": "code",
   "execution_count": 12,
   "metadata": {},
   "outputs": [
    {
     "name": "stdout",
     "output_type": "stream",
     "text": [
      "Suburban\n",
      "Camero\n"
     ]
    }
   ],
   "source": [
    "# [-1] always returns last item in list\n",
    "# [-2] prints the second last item in list  (and so on for other - values)\n",
    "print(autos[-1].title())\n",
    "print(autos[-3].title())"
   ]
  },
  {
   "cell_type": "code",
   "execution_count": 13,
   "metadata": {},
   "outputs": [
    {
     "name": "stdout",
     "output_type": "stream",
     "text": [
      "My favorite sports car growing up was a Corvette.\n"
     ]
    }
   ],
   "source": [
    "message = \"My favorite sports car growing up was a \" + autos[0].title() + \".\" \n",
    "print(message)"
   ]
  },
  {
   "cell_type": "code",
   "execution_count": 14,
   "metadata": {},
   "outputs": [
    {
     "name": "stdout",
     "output_type": "stream",
     "text": [
      "My favorite SUV growing up was a Tahoe.\n"
     ]
    }
   ],
   "source": [
    "second_message = \"My favorite SUV growing up was a \" + autos[2].title() + \".\"\n",
    "print(second_message)"
   ]
  },
  {
   "cell_type": "markdown",
   "metadata": {},
   "source": [
    "### Modifying Element in a List (Appending, Inserting, Removing)"
   ]
  },
  {
   "cell_type": "code",
   "execution_count": 15,
   "metadata": {},
   "outputs": [
    {
     "name": "stdout",
     "output_type": "stream",
     "text": [
      "['honda', 'yamaha', 'suzuki']\n",
      "['ducati', 'yamaha', 'suzuki']\n"
     ]
    }
   ],
   "source": [
    "# printed original motorcyle list -- then changed [0] from honda to ducati\n",
    "motorcycles = [\"honda\", \"yamaha\", \"suzuki\"]\n",
    "print(motorcycles)\n",
    "\n",
    "motorcycles[0] = \"ducati\"\n",
    "print(motorcycles)"
   ]
  },
  {
   "cell_type": "code",
   "execution_count": 16,
   "metadata": {},
   "outputs": [
    {
     "name": "stdout",
     "output_type": "stream",
     "text": [
      "['honda', 'yamaha', 'suzuki']\n",
      "['honda', 'yamaha', 'suzuki', 'ducati']\n",
      "['honda', 'yamaha', 'suzuki', 'ducati', 'harley davidson']\n"
     ]
    }
   ],
   "source": [
    "# using the append() method to add item to list\n",
    "motorcycles = [\"honda\", \"yamaha\", \"suzuki\"]\n",
    "print(motorcycles)\n",
    "\n",
    "#added ducati to end of the list\n",
    "motorcycles.append('ducati')\n",
    "print(motorcycles)\n",
    "\n",
    "#added harley davidson to end of the list\n",
    "motorcycles.append('harley davidson')\n",
    "print(motorcycles)"
   ]
  },
  {
   "cell_type": "code",
   "execution_count": 17,
   "metadata": {},
   "outputs": [
    {
     "name": "stdout",
     "output_type": "stream",
     "text": [
      "Harley Davidson\n",
      "HARLEY DAVIDSON\n"
     ]
    }
   ],
   "source": [
    "print(motorcycles[4].title())\n",
    "print(motorcycles[4].upper())"
   ]
  },
  {
   "cell_type": "code",
   "execution_count": 20,
   "metadata": {},
   "outputs": [
    {
     "name": "stdout",
     "output_type": "stream",
     "text": [
      "['schwinn', 'huffy', 'cannondale', 'practice bike']\n",
      "Cannondale\n"
     ]
    }
   ],
   "source": [
    "# using the append() method to build an EMPTY list\n",
    "\n",
    "bicycles = []\n",
    "\n",
    "bicycles.append('schwinn')\n",
    "bicycles.append('huffy')\n",
    "bicycles.append('cannondale')\n",
    "bicycles.append('practice bike')\n",
    "\n",
    "print(bicycles)\n",
    "print(bicycles[2].title())"
   ]
  },
  {
   "cell_type": "code",
   "execution_count": 21,
   "metadata": {},
   "outputs": [],
   "source": [
    "# building lists is very common because we won't know the values the users will input"
   ]
  },
  {
   "cell_type": "code",
   "execution_count": 22,
   "metadata": {},
   "outputs": [
    {
     "name": "stdout",
     "output_type": "stream",
     "text": [
      "['trek', 'schwinn', 'huffy', 'cannondale', 'practice bike']\n",
      "['trek', 'schwinn', 'diamondback', 'huffy', 'cannondale', 'practice bike']\n"
     ]
    }
   ],
   "source": [
    "# inserting elements into a list using insert() method\n",
    "# the insert method addes elements to any position\n",
    "\n",
    "bicycles.insert(0, 'trek')\n",
    "print(bicycles)\n",
    "\n",
    "bicycles.insert(2, 'diamondback')\n",
    "print(bicycles)"
   ]
  },
  {
   "cell_type": "code",
   "execution_count": 23,
   "metadata": {},
   "outputs": [
    {
     "name": "stdout",
     "output_type": "stream",
     "text": [
      "['trek', 'diamondback', 'huffy', 'cannondale', 'practice bike']\n"
     ]
    }
   ],
   "source": [
    "# del statement to remove item from list\n",
    "del bicycles[1]\n",
    "print(bicycles)"
   ]
  },
  {
   "cell_type": "code",
   "execution_count": 31,
   "metadata": {},
   "outputs": [
    {
     "name": "stdout",
     "output_type": "stream",
     "text": [
      "['wolverine', 'gambit', 'cyclops', 'colossus', 'beast']\n",
      "Colossus\n"
     ]
    }
   ],
   "source": [
    "# test empty list with inserting elements\n",
    "x_men = []\n",
    "\n",
    "x_men.append('wolverine')\n",
    "x_men.append('gambit')\n",
    "x_men.append('cyclops')\n",
    "x_men.append(\"colossus\")\n",
    "x_men.append(\"beast\")\n",
    "\n",
    "print(x_men)\n",
    "print(x_men[3].title())"
   ]
  },
  {
   "cell_type": "code",
   "execution_count": 32,
   "metadata": {},
   "outputs": [
    {
     "name": "stdout",
     "output_type": "stream",
     "text": [
      "['storm', 'wolverine', 'gambit', 'cyclops', 'colossus', 'beast']\n"
     ]
    }
   ],
   "source": [
    "x_men.insert(0,'storm')\n",
    "print(x_men)"
   ]
  },
  {
   "cell_type": "code",
   "execution_count": 40,
   "metadata": {},
   "outputs": [
    {
     "name": "stdout",
     "output_type": "stream",
     "text": [
      "['psylock', 'rogue', 'storm', 'gambit', 'cyclops', 'colossus']\n",
      "['rogue', 'psylock', 'rogue', 'storm', 'gambit', 'cyclops', 'colossus']\n"
     ]
    }
   ],
   "source": [
    "x_men.insert(0,'psylock')\n",
    "print(x_men)\n",
    "\n",
    "x_men.insert(0,'rogue')\n",
    "print(x_men)"
   ]
  },
  {
   "cell_type": "code",
   "execution_count": 41,
   "metadata": {},
   "outputs": [
    {
     "name": "stdout",
     "output_type": "stream",
     "text": [
      "Psylock\n"
     ]
    }
   ],
   "source": [
    "print(x_men[1].title())"
   ]
  },
  {
   "cell_type": "code",
   "execution_count": 35,
   "metadata": {},
   "outputs": [
    {
     "name": "stdout",
     "output_type": "stream",
     "text": [
      "False\n"
     ]
    }
   ],
   "source": [
    "# test using method and then hitting tab for info\n",
    "print(x_men[1].istitle())"
   ]
  },
  {
   "cell_type": "code",
   "execution_count": 36,
   "metadata": {},
   "outputs": [
    {
     "name": "stdout",
     "output_type": "stream",
     "text": [
      "['rogue', 'storm', 'wolverine', 'gambit', 'cyclops', 'colossus', 'beast']\n"
     ]
    }
   ],
   "source": [
    "del x_men[1]\n",
    "print(x_men)"
   ]
  },
  {
   "cell_type": "code",
   "execution_count": 43,
   "metadata": {},
   "outputs": [
    {
     "name": "stdout",
     "output_type": "stream",
     "text": [
      "psylock\n",
      "PSYLOCK\n",
      "Psylock\n"
     ]
    }
   ],
   "source": [
    "print(x_men[1])\n",
    "print(x_men[1].upper())\n",
    "print(x_men[1].title())"
   ]
  },
  {
   "cell_type": "code",
   "execution_count": 44,
   "metadata": {},
   "outputs": [
    {
     "name": "stdout",
     "output_type": "stream",
     "text": [
      "['rogue', 'psylock', 'rogue', 'storm', 'gambit', 'cyclops']\n",
      "colossus\n"
     ]
    }
   ],
   "source": [
    "# removing last item in list using pop() method\n",
    "popped_x_men = x_men.pop()\n",
    "print(x_men)\n",
    "print(popped_x_men)"
   ]
  },
  {
   "cell_type": "code",
   "execution_count": 45,
   "metadata": {},
   "outputs": [
    {
     "name": "stdout",
     "output_type": "stream",
     "text": [
      "rogue\n"
     ]
    }
   ],
   "source": [
    "# pop any position Example\n",
    "favorite_x_men = x_men.pop(2)\n",
    "print(favorite_x_men)"
   ]
  },
  {
   "cell_type": "code",
   "execution_count": 46,
   "metadata": {},
   "outputs": [
    {
     "name": "stdout",
     "output_type": "stream",
     "text": [
      "['rogue', 'psylock', 'storm', 'gambit', 'cyclops']\n"
     ]
    }
   ],
   "source": [
    "# removing the value by item\n",
    "# remove by value when you don't know the position of it (Example: position 0,1,2,etc.)\n",
    "\n",
    "print(x_men)"
   ]
  },
  {
   "cell_type": "code",
   "execution_count": 47,
   "metadata": {},
   "outputs": [
    {
     "name": "stdout",
     "output_type": "stream",
     "text": [
      "['rogue', 'psylock', 'gambit', 'cyclops']\n"
     ]
    }
   ],
   "source": [
    "x_men.remove('storm')\n",
    "print(x_men)"
   ]
  },
  {
   "cell_type": "markdown",
   "metadata": {},
   "source": [
    "### Organizing a List : Sorting & Reversing"
   ]
  },
  {
   "cell_type": "code",
   "execution_count": 27,
   "metadata": {},
   "outputs": [
    {
     "name": "stdout",
     "output_type": "stream",
     "text": [
      "['iron man', 'hulk', 'thor', 'captain america', 'black widow', 'hawkeye']\n"
     ]
    }
   ],
   "source": [
    "# using sort() method to sort a list - ***will change the list permanently***\n",
    "avengers = [\"iron man\", \"hulk\", \"thor\", \"captain america\", \"black widow\",\"hawkeye\"]\n",
    "print(avengers)"
   ]
  },
  {
   "cell_type": "code",
   "execution_count": 29,
   "metadata": {},
   "outputs": [
    {
     "name": "stdout",
     "output_type": "stream",
     "text": [
      "['black widow', 'captain america', 'hawkeye', 'hulk', 'iron man', 'thor']\n"
     ]
    }
   ],
   "source": [
    "# sort() method will put list in alphabetical order\n",
    "avengers.sort()\n",
    "print(avengers)"
   ]
  },
  {
   "cell_type": "code",
   "execution_count": 31,
   "metadata": {},
   "outputs": [
    {
     "name": "stdout",
     "output_type": "stream",
     "text": [
      "['thor', 'iron man', 'hulk', 'hawkeye', 'captain america', 'black widow']\n"
     ]
    }
   ],
   "source": [
    "# sort the list in REVERSE alphabetical order\n",
    "avengers.sort(reverse=True)\n",
    "print(avengers)"
   ]
  },
  {
   "cell_type": "code",
   "execution_count": 33,
   "metadata": {},
   "outputs": [
    {
     "name": "stdout",
     "output_type": "stream",
     "text": [
      "['black widow', 'captain america', 'hawkeye', 'hulk', 'iron man', 'thor']\n"
     ]
    }
   ],
   "source": [
    "# switched the order back to alphabetical\n",
    "avengers.sort(reverse=False)\n",
    "print(avengers)"
   ]
  },
  {
   "cell_type": "code",
   "execution_count": 35,
   "metadata": {},
   "outputs": [
    {
     "name": "stdout",
     "output_type": "stream",
     "text": [
      "['black widow', 'captain america', 'hawkeye', 'hulk', 'iron man', 'thor']\n"
     ]
    }
   ],
   "source": [
    "# test to make sure list is alphabetical\n",
    "print(avengers)"
   ]
  },
  {
   "cell_type": "code",
   "execution_count": 37,
   "metadata": {},
   "outputs": [
    {
     "data": {
      "text/plain": [
       "6"
      ]
     },
     "execution_count": 37,
     "metadata": {},
     "output_type": "execute_result"
    }
   ],
   "source": [
    "# finding the length of a list using len() function\n",
    "len(avengers)"
   ]
  },
  {
   "cell_type": "code",
   "execution_count": null,
   "metadata": {},
   "outputs": [],
   "source": []
  }
 ],
 "metadata": {
  "kernelspec": {
   "display_name": "PythonData",
   "language": "python",
   "name": "pythondata"
  },
  "language_info": {
   "codemirror_mode": {
    "name": "ipython",
    "version": 3
   },
   "file_extension": ".py",
   "mimetype": "text/x-python",
   "name": "python",
   "nbconvert_exporter": "python",
   "pygments_lexer": "ipython3",
   "version": "3.6.4"
  }
 },
 "nbformat": 4,
 "nbformat_minor": 2
}
