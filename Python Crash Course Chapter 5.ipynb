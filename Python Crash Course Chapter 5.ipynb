{
 "cells": [
  {
   "cell_type": "markdown",
   "metadata": {},
   "source": [
    "# IF Statements"
   ]
  },
  {
   "cell_type": "code",
   "execution_count": 1,
   "metadata": {},
   "outputs": [],
   "source": [
    "# Programming involves examining a set of conditions and deciding what action to take based on those conditions\n",
    "# Python's if statement allows you to examine the current state of a program and respond appropriately to that state"
   ]
  },
  {
   "cell_type": "code",
   "execution_count": 1,
   "metadata": {},
   "outputs": [
    {
     "name": "stdout",
     "output_type": "stream",
     "text": [
      "Audi\n",
      "BMW\n",
      "Subaru\n",
      "Toyota\n"
     ]
    }
   ],
   "source": [
    "# Simple Example\n",
    "# Car names, BMW should be in caps, others with first letter capitalized\n",
    "\n",
    "cars = ['audi', 'bmw', 'subaru', 'toyota']\n",
    "for car in cars:\n",
    "    if car == 'bmw':\n",
    "        print(car.upper())\n",
    "    else: \n",
    "        print(car.title())"
   ]
  },
  {
   "cell_type": "code",
   "execution_count": 43,
   "metadata": {},
   "outputs": [
    {
     "name": "stdout",
     "output_type": "stream",
     "text": [
      "The best sign, Aries!\n",
      "Pisces\n",
      "Sagitarrius\n",
      "Leo\n"
     ]
    }
   ],
   "source": [
    "# If statement practice\n",
    "\n",
    "zodiac_signs = ['aries', 'pisces', 'sagitarrius', 'leo']\n",
    "\n",
    "for zodiac_sign in zodiac_signs:\n",
    "    if zodiac_sign == \"aries\":\n",
    "        print(\"The best sign, \" + zodiac_sign.title() + \"!\")\n",
    "        \n",
    "    else:\n",
    "        print(zodiac_sign.title())"
   ]
  },
  {
   "cell_type": "code",
   "execution_count": 45,
   "metadata": {},
   "outputs": [
    {
     "name": "stdout",
     "output_type": "stream",
     "text": [
      "Yes, Midoria is in My Hero Academia!\n",
      "Yes, Uraraka Ochaco is in My Hero Academia!\n",
      "Yes, Tokodori is in My Hero Academia!\n",
      "Yes, Tokoyami is in My Hero Academia!\n",
      "Correct, Light Yagami is not in My Hero Academia\n"
     ]
    }
   ],
   "source": [
    "# Question: Which character is NOT in My Hero Academia?\n",
    "\n",
    "characters = [\"Midoria\", \"Uraraka Ochaco\", \"Tokodori\", \"Tokoyami\", \"Light Yagami\"]\n",
    "\n",
    "for character in characters:\n",
    "    if character == \"Light Yagami\":\n",
    "        print(\"Correct, \" + character + \" is not in My Hero Academia\")\n",
    "        \n",
    "    else:\n",
    "        print(\"Yes, \" + character + \" is in My Hero Academia!\")"
   ]
  },
  {
   "cell_type": "code",
   "execution_count": 2,
   "metadata": {},
   "outputs": [
    {
     "data": {
      "text/plain": [
       "True"
      ]
     },
     "execution_count": 2,
     "metadata": {},
     "output_type": "execute_result"
    }
   ],
   "source": [
    "#Conditional Test (true or false)\n",
    "car = 'bmw'\n",
    "car == 'bmw'"
   ]
  },
  {
   "cell_type": "code",
   "execution_count": 3,
   "metadata": {},
   "outputs": [
    {
     "data": {
      "text/plain": [
       "False"
      ]
     },
     "execution_count": 3,
     "metadata": {},
     "output_type": "execute_result"
    }
   ],
   "source": [
    "#Conditional Test (true or false)\n",
    "car = 'audi'\n",
    "car == 'bmw'"
   ]
  },
  {
   "cell_type": "code",
   "execution_count": 4,
   "metadata": {},
   "outputs": [],
   "source": [
    "# IN the above examples\n",
    "# the line at 2 sets the value using the single = sign\n",
    "# the line at 3 checks the value using the double == sign\n",
    "# (==) is called equality operator"
   ]
  },
  {
   "cell_type": "code",
   "execution_count": 5,
   "metadata": {},
   "outputs": [],
   "source": [
    "# single = sign is a statement \"set car value to ...\"\n",
    "# double == sign asks a question \"is the value of car equal to ...\""
   ]
  },
  {
   "cell_type": "code",
   "execution_count": 6,
   "metadata": {},
   "outputs": [
    {
     "data": {
      "text/plain": [
       "False"
      ]
     },
     "execution_count": 6,
     "metadata": {},
     "output_type": "execute_result"
    }
   ],
   "source": [
    "# case matters\n",
    "car = 'Audi'\n",
    "car == 'audi'"
   ]
  },
  {
   "cell_type": "code",
   "execution_count": 7,
   "metadata": {},
   "outputs": [],
   "source": [
    "# Checking for inequality\n",
    "# when you want to check if two values are NOT equal then use !=\n",
    "# ! represents NOT"
   ]
  },
  {
   "cell_type": "code",
   "execution_count": 8,
   "metadata": {},
   "outputs": [
    {
     "name": "stdout",
     "output_type": "stream",
     "text": [
      "Hold the anchovies\n"
     ]
    }
   ],
   "source": [
    "# Example 1\n",
    "pizza_toppings = 'mushrooms'\n",
    "if pizza_toppings != 'anchovies':\n",
    "    print('Hold the anchovies')"
   ]
  },
  {
   "cell_type": "code",
   "execution_count": 9,
   "metadata": {},
   "outputs": [],
   "source": [
    "# Example 2\n",
    "pizza_toppings = 'mushrooms'\n",
    "if pizza_toppings != 'mushrooms':\n",
    "    print('Hold the anchovies')"
   ]
  },
  {
   "cell_type": "code",
   "execution_count": 10,
   "metadata": {},
   "outputs": [],
   "source": [
    "# In above Example 1, mushrooms was not equal to anchovies so print statement worked\n",
    "# In above Example 2, mushrooms was equal to mushrooms so print statement didn't apply"
   ]
  },
  {
   "cell_type": "code",
   "execution_count": 11,
   "metadata": {},
   "outputs": [
    {
     "data": {
      "text/plain": [
       "True"
      ]
     },
     "execution_count": 11,
     "metadata": {},
     "output_type": "execute_result"
    }
   ],
   "source": [
    "# Numerical Comparisons\n",
    "# following will check to see if a person is 18 yrs old\n",
    "age = 18\n",
    "age == 18"
   ]
  },
  {
   "cell_type": "code",
   "execution_count": 19,
   "metadata": {},
   "outputs": [
    {
     "name": "stdout",
     "output_type": "stream",
     "text": [
      "That is not the correct answer. Please try again!\n"
     ]
    }
   ],
   "source": [
    "answer = 17\n",
    "if answer != 42:\n",
    "    print('That is not the correct answer. Please try again!')\n",
    "    \n",
    "if answer == 42:\n",
    "    print('correct')"
   ]
  },
  {
   "cell_type": "code",
   "execution_count": 20,
   "metadata": {},
   "outputs": [
    {
     "data": {
      "text/plain": [
       "True"
      ]
     },
     "execution_count": 20,
     "metadata": {},
     "output_type": "execute_result"
    }
   ],
   "source": [
    "age = 18\n",
    "age < 21"
   ]
  },
  {
   "cell_type": "code",
   "execution_count": 21,
   "metadata": {},
   "outputs": [
    {
     "data": {
      "text/plain": [
       "True"
      ]
     },
     "execution_count": 21,
     "metadata": {},
     "output_type": "execute_result"
    }
   ],
   "source": [
    "age <= 21"
   ]
  },
  {
   "cell_type": "code",
   "execution_count": 22,
   "metadata": {},
   "outputs": [
    {
     "data": {
      "text/plain": [
       "False"
      ]
     },
     "execution_count": 22,
     "metadata": {},
     "output_type": "execute_result"
    }
   ],
   "source": [
    "age > 21"
   ]
  },
  {
   "cell_type": "code",
   "execution_count": 23,
   "metadata": {},
   "outputs": [
    {
     "data": {
      "text/plain": [
       "False"
      ]
     },
     "execution_count": 23,
     "metadata": {},
     "output_type": "execute_result"
    }
   ],
   "source": [
    "age >= 21"
   ]
  },
  {
   "cell_type": "code",
   "execution_count": 24,
   "metadata": {},
   "outputs": [],
   "source": [
    "# Checking Multiple Conditions\n",
    "# Sometimes may want two conditions to be true to take action\n",
    "# Keywords \"and\" and \"or\" can help in these situations"
   ]
  },
  {
   "cell_type": "code",
   "execution_count": 25,
   "metadata": {},
   "outputs": [
    {
     "data": {
      "text/plain": [
       "False"
      ]
     },
     "execution_count": 25,
     "metadata": {},
     "output_type": "execute_result"
    }
   ],
   "source": [
    "#And\n",
    "age_0 = 22\n",
    "age_1 = 15\n",
    " \n",
    "age_0 >= 21 and age_1 >= 21"
   ]
  },
  {
   "cell_type": "code",
   "execution_count": 26,
   "metadata": {},
   "outputs": [
    {
     "data": {
      "text/plain": [
       "True"
      ]
     },
     "execution_count": 26,
     "metadata": {},
     "output_type": "execute_result"
    }
   ],
   "source": [
    "#Or\n",
    "age_0 = 22\n",
    "age_1 = 15\n",
    " \n",
    "age_0 >= 21 or age_1 >= 21"
   ]
  },
  {
   "cell_type": "code",
   "execution_count": 27,
   "metadata": {},
   "outputs": [],
   "source": [
    "# Checking whether a value is in a list\n",
    "# Sometimes you need to check if a list contains a certain value\n",
    "# Example: if a username already exists in a list of current usernames\n",
    "# Keyword \"in\""
   ]
  },
  {
   "cell_type": "code",
   "execution_count": 28,
   "metadata": {},
   "outputs": [
    {
     "data": {
      "text/plain": [
       "True"
      ]
     },
     "execution_count": 28,
     "metadata": {},
     "output_type": "execute_result"
    }
   ],
   "source": [
    "requested_toppings = ['pepperoni', 'italian sausage', 'mushrooms', 'pineapple']\n",
    "'mushrooms' in requested_toppings"
   ]
  },
  {
   "cell_type": "code",
   "execution_count": 29,
   "metadata": {},
   "outputs": [
    {
     "data": {
      "text/plain": [
       "False"
      ]
     },
     "execution_count": 29,
     "metadata": {},
     "output_type": "execute_result"
    }
   ],
   "source": [
    "'onions' in requested_toppings"
   ]
  },
  {
   "cell_type": "code",
   "execution_count": 30,
   "metadata": {},
   "outputs": [],
   "source": [
    "# Checking whether a value is NOT in a list\n",
    "# Keyword \"not\""
   ]
  },
  {
   "cell_type": "code",
   "execution_count": 18,
   "metadata": {},
   "outputs": [
    {
     "name": "stdout",
     "output_type": "stream",
     "text": [
      "Marie you can post a response if you wish.\n"
     ]
    }
   ],
   "source": [
    "banned_users = ['andrew', 'carolina', 'david']\n",
    "user = 'marie'\n",
    "\n",
    "if user not in banned_users:\n",
    "    print(user.title() + ' you can post a response if you wish.')"
   ]
  },
  {
   "cell_type": "markdown",
   "metadata": {},
   "source": [
    "### Boolean Expressions"
   ]
  },
  {
   "cell_type": "code",
   "execution_count": 19,
   "metadata": {},
   "outputs": [],
   "source": [
    "# Boolean expression is another name for conditonal test\n",
    "# Boolean value is either true or false\n",
    "\n",
    "# Boolean values are often used to keep track of certain conditons"
   ]
  },
  {
   "cell_type": "markdown",
   "metadata": {},
   "source": [
    "### If Statements"
   ]
  },
  {
   "cell_type": "code",
   "execution_count": 24,
   "metadata": {},
   "outputs": [
    {
     "name": "stdout",
     "output_type": "stream",
     "text": [
      "You are old enough to vote\n"
     ]
    }
   ],
   "source": [
    "# Simple if Statements\n",
    "# Simple kinf of if statement has one test and one action\n",
    "# Example:\n",
    "age = 19\n",
    "if age >= 18:\n",
    "    print(\"You are old enough to vote\")"
   ]
  },
  {
   "cell_type": "code",
   "execution_count": 32,
   "metadata": {},
   "outputs": [
    {
     "name": "stdout",
     "output_type": "stream",
     "text": [
      "You are old enough to vote\n",
      "Have you registered to vote yet?\n",
      "\n",
      "You have registered, haven't you?\n",
      "I knew you had!\n"
     ]
    }
   ],
   "source": [
    "age = 19\n",
    "if age >= 18:\n",
    "    print(\"You are old enough to vote\")\n",
    "    print(\"Have you registered to vote yet?\"\"\\n\")\n",
    "    \n",
    "    print(\"You have registered, haven't you?\" + \"\\nI knew you had!\")"
   ]
  },
  {
   "cell_type": "markdown",
   "metadata": {},
   "source": [
    "### If-Else Statements"
   ]
  },
  {
   "cell_type": "code",
   "execution_count": 27,
   "metadata": {},
   "outputs": [],
   "source": [
    "# Often you'll want to take one action if a conditional passes and a different action in all other cases\n",
    "# Python's if-else syntax makes this possible\n",
    "\n",
    "# if-else block is symilar to a simple if statement\n",
    "# but the else statement allows you to define an action or set of actions that are executed when the condition fails"
   ]
  },
  {
   "cell_type": "code",
   "execution_count": 28,
   "metadata": {},
   "outputs": [
    {
     "name": "stdout",
     "output_type": "stream",
     "text": [
      "Sorry, you are too young to vote.\n",
      "Please register to vote as soon as you turn 18.\n"
     ]
    }
   ],
   "source": [
    "age = 17\n",
    "if age >= 18:\n",
    "    print(\"You are old enough to vote!\")\n",
    "    print(\"Have you registered to vote yet?\")\n",
    "    \n",
    "else: \n",
    "    print(\"Sorry, you are too young to vote.\")\n",
    "    print(\"Please register to vote as soon as you turn 18.\")"
   ]
  },
  {
   "cell_type": "markdown",
   "metadata": {},
   "source": [
    "### If-Elif-Else Chain"
   ]
  },
  {
   "cell_type": "code",
   "execution_count": 46,
   "metadata": {},
   "outputs": [],
   "source": [
    "# Often, I'll need to test more than two possible situations\n",
    "# Then I will use Python's if-elif-else chain\n",
    "# Python executes only one block in an if-elif-else chain ~ runs each conditional test until one passes\n",
    "# When a test passes, the code following that test is executed and the rest are skipped"
   ]
  },
  {
   "cell_type": "code",
   "execution_count": 6,
   "metadata": {},
   "outputs": [
    {
     "name": "stdout",
     "output_type": "stream",
     "text": [
      "Your admission cost is $5.\n"
     ]
    }
   ],
   "source": [
    "# Example: An amusement park charges different rates for different age groups\n",
    "# Under 4 years of age is free\n",
    "# Between 4-18 is $5\n",
    "# Over 18 is $10\n",
    "\n",
    "age = 12\n",
    "if age < 4:\n",
    "    print('Your admission cost is $0.')\n",
    "    \n",
    "elif age < 18:\n",
    "    print('Your admission cost is $5.')\n",
    "    \n",
    "else:\n",
    "    print('Your admission cost is $10.')\n",
    "    \n"
   ]
  },
  {
   "cell_type": "code",
   "execution_count": 14,
   "metadata": {},
   "outputs": [
    {
     "name": "stdout",
     "output_type": "stream",
     "text": [
      "Your admission cost is $5.\n"
     ]
    }
   ],
   "source": [
    "# More Concise/Efficient Example:\n",
    "# Easier to modify (1 print statement vs 3)\n",
    "\n",
    "age = 12\n",
    "\n",
    "if age < 4:\n",
    "    price = 0\n",
    "    \n",
    "elif age < 18:\n",
    "    price = 5\n",
    "    \n",
    "else:\n",
    "    price = 10\n",
    "    \n",
    "print(\"Your admission cost is $\" + str(price) + '.')"
   ]
  },
  {
   "cell_type": "code",
   "execution_count": 15,
   "metadata": {},
   "outputs": [
    {
     "name": "stdout",
     "output_type": "stream",
     "text": [
      "Your admission cost is $5.\n"
     ]
    }
   ],
   "source": [
    "# Using multiple elif blocks\n",
    "\n",
    "age = 12\n",
    "\n",
    "if age < 4:\n",
    "    price = 0\n",
    "    \n",
    "elif age < 18:\n",
    "    price = 5\n",
    "    \n",
    "elif age < 65:\n",
    "    price = 10\n",
    "    \n",
    "else:\n",
    "    price = 5\n",
    "    \n",
    "print(\"Your admission cost is $\" + str(price) + '.')\n"
   ]
  },
  {
   "cell_type": "code",
   "execution_count": 26,
   "metadata": {},
   "outputs": [
    {
     "name": "stdout",
     "output_type": "stream",
     "text": [
      "You can start on our team!\n"
     ]
    }
   ],
   "source": [
    "points = 24\n",
    "\n",
    "if points < 10:\n",
    "    print(\"You better get up more shots!\")\n",
    "elif points < 20:\n",
    "    print(\"You're solid and can come off the bench!\")\n",
    "elif points < 30:\n",
    "    print(\"You can start on our team!\")\n",
    "else:\n",
    "    print(\"You're an all-star!!!\")"
   ]
  },
  {
   "cell_type": "code",
   "execution_count": 16,
   "metadata": {},
   "outputs": [
    {
     "name": "stdout",
     "output_type": "stream",
     "text": [
      "Your admission cost is $5.\n"
     ]
    }
   ],
   "source": [
    "# Omitting the else block\n",
    "#Python does not require the else block at the end of an if-elif chain\n",
    "\n",
    "age = 12\n",
    "\n",
    "if age < 4:\n",
    "    price = 0\n",
    "    \n",
    "elif age < 18:\n",
    "    price = 5\n",
    "    \n",
    "elif age < 65:\n",
    "    price = 10\n",
    "    \n",
    "elif age >= 65:\n",
    "    price = 5\n",
    "    \n",
    "print(\"Your admission cost is $\" + str(price) + '.')"
   ]
  },
  {
   "cell_type": "markdown",
   "metadata": {},
   "source": [
    "#### Testing Multiple Conditions"
   ]
  },
  {
   "cell_type": "code",
   "execution_count": 47,
   "metadata": {},
   "outputs": [],
   "source": [
    "# The if-elif-else chain is powerful, but only appropriate when you need ONE test to pass\n",
    "# As soon as Python finds one test that passes, it skips the rest\n",
    "# Efficient for testing for one specific condition\n",
    "# Sometimes it's important to check more than one condition of interest\n",
    "# Use a series of \"if\" statements"
   ]
  },
  {
   "cell_type": "code",
   "execution_count": 2,
   "metadata": {},
   "outputs": [
    {
     "name": "stdout",
     "output_type": "stream",
     "text": [
      "Adding mushrooms\n",
      "Adding extra cheese\n",
      "\n",
      "Finished making your pizza!\n"
     ]
    }
   ],
   "source": [
    "requested_toppings = [\"mushrooms\", \"extra cheese\"]\n",
    "\n",
    "if 'mushrooms' in requested_toppings:\n",
    "    print(\"Adding mushrooms\")\n",
    "if 'pepperoni' in requested_toppings:\n",
    "    print(\"Adding pepperoni\")\n",
    "if \"extra cheese\" in requested_toppings: \n",
    "    print(\"Adding extra cheese\")\n",
    "    \n",
    "print(\"\\nFinished making your pizza!\")"
   ]
  },
  {
   "cell_type": "code",
   "execution_count": 4,
   "metadata": {},
   "outputs": [
    {
     "name": "stdout",
     "output_type": "stream",
     "text": [
      "Adding mushrooms\n",
      "\n",
      "Finished making your pizza!\n"
     ]
    }
   ],
   "source": [
    "# This would not work properly with if-elif-else staement because it would only let ONE test pass\n",
    "# Mushroom test passes so does not run for pepperoni or extra cheese\n",
    "\n",
    "requested_toppings = [\"mushrooms\", \"extra cheese\"]\n",
    "\n",
    "if 'mushrooms' in requested_toppings:\n",
    "    print(\"Adding mushrooms\")\n",
    "elif 'pepperoni' in requested_toppings:\n",
    "    print(\"Adding pepperoni\")\n",
    "elif \"extra cheese\" in requested_toppings: \n",
    "    print(\"Adding extra cheese\")\n",
    "    \n",
    "print(\"\\nFinished making your pizza!\")"
   ]
  },
  {
   "cell_type": "code",
   "execution_count": 5,
   "metadata": {},
   "outputs": [],
   "source": [
    "# Summary - One block of code to run - if-elif-else\n",
    "# More than one block of code - several independent if statements"
   ]
  },
  {
   "cell_type": "markdown",
   "metadata": {},
   "source": [
    "#### Try it yourself"
   ]
  },
  {
   "cell_type": "code",
   "execution_count": 7,
   "metadata": {},
   "outputs": [
    {
     "name": "stdout",
     "output_type": "stream",
     "text": [
      "You just earned 5 points\n"
     ]
    }
   ],
   "source": [
    "alien_color = [\"green\", \"yellow\", \"red\"]\n",
    "\n",
    "if \"green\" in alien_color:\n",
    "    print(\"You just earned 5 points\")"
   ]
  },
  {
   "cell_type": "code",
   "execution_count": 9,
   "metadata": {},
   "outputs": [
    {
     "name": "stdout",
     "output_type": "stream",
     "text": [
      "You just earned 5 points\n"
     ]
    }
   ],
   "source": [
    "alien_color = [\"green\", \"yellow\", \"red\"]\n",
    "\n",
    "if \"green\" in alien_color:\n",
    "    print(\"You just earned 5 points\")\n",
    "elif \"blue\" in alien_color:\n",
    "    print(\"You lost 5 points\")\n",
    "else:\n",
    "    print(\"Not sure what is going to happen\")"
   ]
  },
  {
   "cell_type": "code",
   "execution_count": 10,
   "metadata": {},
   "outputs": [
    {
     "name": "stdout",
     "output_type": "stream",
     "text": [
      "You lost 5 points\n"
     ]
    }
   ],
   "source": [
    "alien_color = [\"blue\", \"yellow\", \"red\"]\n",
    "\n",
    "if \"green\" in alien_color:\n",
    "    print(\"You just earned 5 points\")\n",
    "elif \"blue\" in alien_color:\n",
    "    print(\"You lost 5 points\")\n",
    "else:\n",
    "    print(\"Not sure what is going to happen\")"
   ]
  },
  {
   "cell_type": "code",
   "execution_count": 11,
   "metadata": {},
   "outputs": [
    {
     "name": "stdout",
     "output_type": "stream",
     "text": [
      "Not sure what is going to happen\n"
     ]
    }
   ],
   "source": [
    "alien_color = [\"black\", \"yellow\", \"red\"]\n",
    "\n",
    "if \"green\" in alien_color:\n",
    "    print(\"You just earned 5 points\")\n",
    "elif \"blue\" in alien_color:\n",
    "    print(\"You lost 5 points\")\n",
    "else:\n",
    "    print(\"Not sure what is going to happen\")"
   ]
  },
  {
   "cell_type": "code",
   "execution_count": 18,
   "metadata": {},
   "outputs": [
    {
     "name": "stdout",
     "output_type": "stream",
     "text": [
      "This person is an elder!\n"
     ]
    }
   ],
   "source": [
    "# Stage of Life\n",
    "age = 90\n",
    "\n",
    "if age < 2:\n",
    "    print(\"This person is a baby!\")\n",
    "elif age < 4:\n",
    "    print(\"This person is a toddler!\")\n",
    "elif age < 13:\n",
    "    print(\"This person is a kid!\")\n",
    "elif age < 20:\n",
    "    print(\"This person is a teenager!\")\n",
    "elif age < 65:\n",
    "    print(\"This person is an adult!\")\n",
    "else:\n",
    "    print(\"This person is an elder!\")"
   ]
  },
  {
   "cell_type": "code",
   "execution_count": 20,
   "metadata": {},
   "outputs": [
    {
     "name": "stdout",
     "output_type": "stream",
     "text": [
      "Eat grapes and cheese!\n",
      "Eat mango and chile!\n",
      "Make some natural orange juice!\n",
      "Quiero un agua fresca de piña!\n"
     ]
    }
   ],
   "source": [
    "# Favorite Fruit\n",
    "favorite_fruit =[\"grapes\", \"mangos\", \"oranges\", \"pineapple\"]\n",
    "\n",
    "if \"grapes\" in favorite_fruit:\n",
    "    print(\"Eat grapes and cheese!\")\n",
    "if \"mangos\" in favorite_fruit:\n",
    "    print(\"Eat mango and chile!\")\n",
    "if \"grapefruit\" in favorite_fruit:\n",
    "    print(\"The worst fruit!\")\n",
    "if \"oranges\" in favorite_fruit:\n",
    "    print(\"Make some natural orange juice!\")\n",
    "if \"pineapple\" in favorite_fruit:\n",
    "    print(\"Quiero un agua fresca de piña!\")"
   ]
  },
  {
   "cell_type": "markdown",
   "metadata": {},
   "source": [
    "## Using if statements with Lists"
   ]
  },
  {
   "cell_type": "code",
   "execution_count": 27,
   "metadata": {},
   "outputs": [],
   "source": [
    "# You can do some interesting work when combining lists with if statements\n",
    "# You can watch for special values\n",
    "# You can manage changing conditions efficiently\n",
    "# You can BEGIN TO PROVE YOUR CODE WORKS AS YOU EXPECT IT TO IN ALL POSSIBLE SITUATIONS"
   ]
  },
  {
   "cell_type": "markdown",
   "metadata": {},
   "source": [
    "#### Checking for Special Items"
   ]
  },
  {
   "cell_type": "code",
   "execution_count": 30,
   "metadata": {},
   "outputs": [
    {
     "name": "stdout",
     "output_type": "stream",
     "text": [
      "Adding pepperoni.\n",
      "Adding sausage.\n",
      "Adding mushroom.\n",
      "Adding pineapple.\n",
      "Adding extra sauce.\n",
      "\n",
      "Finished making your pizza!\n"
     ]
    }
   ],
   "source": [
    "# Pizzeria example\n",
    "# Pizzeria will display a message whenever a topping is added to pizza, as it's being made\n",
    "# Code for this action is t make a list of toppings that the customer requests, and using a loop to announce each topping\n",
    "\n",
    "requested_toppings = ['pepperoni', 'sausage', 'mushroom', 'pineapple', 'extra sauce']\n",
    "\n",
    "for requested_topping in requested_toppings:\n",
    "    print(\"Adding \" + requested_topping + \".\")\n",
    "    \n",
    "print(\"\\nFinished making your pizza!\")"
   ]
  },
  {
   "cell_type": "code",
   "execution_count": 34,
   "metadata": {},
   "outputs": [
    {
     "name": "stdout",
     "output_type": "stream",
     "text": [
      "Adding pepperoni.\n",
      "Adding sausage.\n",
      "Sorry, out of mushroom\n",
      "Adding pineapple.\n",
      "Adding extra sauce.\n",
      "\n",
      "Finished making your pizza!\n"
     ]
    }
   ],
   "source": [
    "# But what if pizzeria runs out of a topping?\n",
    "# An if statement in the loop can handle this situation\n",
    "\n",
    "requested_toppings = ['pepperoni', 'sausage', 'mushroom', 'pineapple', 'extra sauce']\n",
    "\n",
    "for requested_topping in requested_toppings:\n",
    "    if requested_topping == \"mushroom\":\n",
    "        print(\"Sorry, out of mushroom\")\n",
    "    \n",
    "    else:\n",
    "        print(\"Adding \" + requested_topping + \".\")\n",
    "    \n",
    "print(\"\\nFinished making your pizza!\")"
   ]
  },
  {
   "cell_type": "code",
   "execution_count": 35,
   "metadata": {},
   "outputs": [],
   "source": [
    "# In the above example, code checked each requested item before adding it to the pizza (for loop)"
   ]
  },
  {
   "cell_type": "markdown",
   "metadata": {},
   "source": [
    "#### Checking a List that is Not Empty !! Review Later  !!"
   ]
  },
  {
   "cell_type": "code",
   "execution_count": 36,
   "metadata": {},
   "outputs": [
    {
     "name": "stdout",
     "output_type": "stream",
     "text": [
      "Are you sure you want a plain pizza\n"
     ]
    }
   ],
   "source": [
    "# We have made assumptions about every list we have created so far; assumed that each list had at least one item in it\n",
    "# Next, we'll let users provide the information that's stored in the list, so we won't be able to assume \n",
    "# Useful to check if the list is empty before running a for loop\n",
    "\n",
    "# Example\n",
    "\n",
    "requested_toppings = []\n",
    "\n",
    "if requested_toppings:\n",
    "    for requested_topping in requested_toppings:\n",
    "        print(\"Adding \" + requested_topping + \".\")\n",
    "        \n",
    "else:\n",
    "    print(\"Are you sure you want a plain pizza\")"
   ]
  },
  {
   "cell_type": "markdown",
   "metadata": {},
   "source": [
    "#### Using Multiple Lists"
   ]
  },
  {
   "cell_type": "code",
   "execution_count": 38,
   "metadata": {},
   "outputs": [
    {
     "name": "stdout",
     "output_type": "stream",
     "text": [
      "Adding pepperoni.\n",
      "Adding sausage.\n",
      "Adding mushrooms.\n",
      "Sorry, we don't have pineapples.\n",
      "Adding extra sauce.\n",
      "\n",
      "Finished making your pizza!\n"
     ]
    }
   ],
   "source": [
    "# What if a customer asks for a topping that is not available\n",
    "# We can use two lists \n",
    "# First with available toppings\n",
    "# Second with requested toppings from customer\n",
    "\n",
    "available_toppings = [\"pepperoni\", \"sausage\", \"hamburger\", \"mushrooms\", \"onions\", \"extra sauce\", \"extra cheese\"]\n",
    "\n",
    "requested_toppings = [\"pepperoni\", \"sausage\", \"mushrooms\", \"pineapples\", \"extra sauce\"]\n",
    "\n",
    "for requested_topping in requested_toppings:\n",
    "    if requested_topping in available_toppings:\n",
    "        print(\"Adding \" + requested_topping + \".\")\n",
    "        \n",
    "    else:\n",
    "        print(\"Sorry, we don't have \" + requested_topping + \".\")\n",
    "        \n",
    "print(\"\\nFinished making your pizza!\")"
   ]
  },
  {
   "cell_type": "markdown",
   "metadata": {},
   "source": [
    "#### Try It Yourself"
   ]
  },
  {
   "cell_type": "code",
   "execution_count": 54,
   "metadata": {},
   "outputs": [
    {
     "name": "stdout",
     "output_type": "stream",
     "text": [
      "Hello, Admin Brian!\n",
      "Hello, rpatino welcome!\n",
      "Hello, ppatino welcome!\n",
      "Hello, dalmeda welcome!\n",
      "Hello, usertwo welcome!\n",
      "\n",
      "Hope I completed this task correctly!\n"
     ]
    }
   ],
   "source": [
    "usernames = ['admin', 'rpatino', \"ppatino\", \"dalmeda\", 'usertwo']\n",
    "\n",
    "for username in usernames:\n",
    "    if username == \"admin\":\n",
    "        print(\"Hello, \" + username.title() + \" Brian!\")\n",
    "        \n",
    "    else:\n",
    "        print(\"Hello, \" + username + \" welcome!\")\n",
    "    \n",
    "print(\"\\nHope I completed this task correctly!\")"
   ]
  },
  {
   "cell_type": "code",
   "execution_count": 55,
   "metadata": {},
   "outputs": [
    {
     "name": "stdout",
     "output_type": "stream",
     "text": [
      "We got some users!\n",
      "We got some users!\n",
      "We got some users!\n",
      "We got some users!\n",
      "We got some users!\n"
     ]
    }
   ],
   "source": [
    "usernames = ['admin', 'rpatino', \"ppatino\", \"dalmeda\", 'usertwo']\n",
    "\n",
    "for username in usernames:\n",
    "    if username == \"\":\n",
    "        print(\"We need to find some users!\")\n",
    "        \n",
    "    else:\n",
    "        print(\"We got some users!\")"
   ]
  },
  {
   "cell_type": "code",
   "execution_count": 66,
   "metadata": {},
   "outputs": [
    {
     "name": "stdout",
     "output_type": "stream",
     "text": [
      "Tommy, we have created your account!\n",
      "Rocky, we have created your account!\n",
      "Adam, we have created your account!\n",
      "Christy, we have created your account!\n",
      "This username is taken.\n",
      "This username is taken.\n",
      "This username is taken.\n",
      "This username is taken.\n"
     ]
    }
   ],
   "source": [
    "# Checking usernames \n",
    "# will use two lists\n",
    "\n",
    "current_users = [\"Jason\", \"Trini\", \"Zack\", \"Kimberly\", \"Billy\"]\n",
    "\n",
    "new_users = [\"Tommy\", \"Rocky\", \"Adam\", \"Christy\", \"Trini\", \"jason\", \"JASON\", \"JAson\"]\n",
    "\n",
    "for new_user in new_users:\n",
    "    if new_user.title() in current_users:\n",
    "        print(\"This username is taken.\")\n",
    "        \n",
    "    elif new_user.upper() in current_users:\n",
    "        print(\"This username is taken.\")\n",
    "        \n",
    "    else:\n",
    "        print(new_user + \", we have created your account!\")"
   ]
  },
  {
   "cell_type": "code",
   "execution_count": null,
   "metadata": {},
   "outputs": [],
   "source": []
  }
 ],
 "metadata": {
  "kernelspec": {
   "display_name": "PythonData",
   "language": "python",
   "name": "pythondata"
  },
  "language_info": {
   "codemirror_mode": {
    "name": "ipython",
    "version": 3
   },
   "file_extension": ".py",
   "mimetype": "text/x-python",
   "name": "python",
   "nbconvert_exporter": "python",
   "pygments_lexer": "ipython3",
   "version": "3.6.4"
  }
 },
 "nbformat": 4,
 "nbformat_minor": 2
}
